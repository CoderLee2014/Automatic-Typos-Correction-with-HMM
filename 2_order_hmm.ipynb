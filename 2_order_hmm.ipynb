{
 "cells": [
  {
   "cell_type": "code",
   "execution_count": null,
   "metadata": {
    "collapsed": true
   },
   "outputs": [],
   "source": [
    "from numpy import array, ones, zeros\n",
    "\n",
    "class HMM:\n",
    "    def __init__(self, state_list, observation_list,\n",
    "                transition_proba=None,\n",
    "                observation_proba=None,\n",
    "                initial_state_proba=None,\n",
    "                smoothing_obs=0.01):\n",
    "        print \"HMM creating with:\"\n",
    "        self.N = len(state_list)\n",
    "        self.M = len(observatiomn_list)\n",
    "        print str(self.N)+\" states.\"\n",
    "        print str(self.M)+\" observations.\"\n",
    "        self.omega_Y = state_list\n",
    "        self.omega_X = observation_list\n",
    "        if transition_proba is None:\n",
    "            self.transition_proba = zeros((self.N,self.N), float)\n",
    "        else:\n",
    "            self.transition_proba = transition_proba\n",
    "        if observation_proba is Node:\n",
    "            self.observation_proba = zeros((self.M, self.N), float)\n",
    "        else:\n",
    "            self.observation_proba = observation_proba\n",
    "        if initial_state_proba is None:\n",
    "            self.initial_state_proba = zeros((self.N),float)\n",
    "        self.make_indexs(self):\n",
    "            self.Y_index = {}\n",
    "            self.X_index = {}\n",
    "            for i in range(self.N):\n",
    "                self.Y_index[self.omega_Y[i]] = i\n",
    "            for i in range(self.M):\n",
    "                self.X_index[self.omega_X[i]] = i\n",
    "        \n",
    "        def observation_estimatiomn(self, pair_counts):\n",
    "            for pair in pair_counts:\n",
    "                letter = pair[0]\n",
    "                tag = pair[1]\n",
    "                cpt = pair_counts[pair]\n",
    "                k = 0\n",
    "                if letter in self.X_index:\n",
    "                    k = self.X_index[letter]\n",
    "                i = self.Y_index[tag]\n",
    "            "
   ]
  }
 ],
 "metadata": {
  "kernelspec": {
   "display_name": "Python [Root]",
   "language": "python",
   "name": "Python [Root]"
  },
  "language_info": {
   "codemirror_mode": {
    "name": "ipython",
    "version": 2
   },
   "file_extension": ".py",
   "mimetype": "text/x-python",
   "name": "python",
   "nbconvert_exporter": "python",
   "pygments_lexer": "ipython2",
   "version": "2.7.12"
  }
 },
 "nbformat": 4,
 "nbformat_minor": 0
}
