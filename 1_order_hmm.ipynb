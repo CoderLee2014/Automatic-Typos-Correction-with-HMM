{
 "cells": [
  {
   "cell_type": "code",
   "execution_count": 45,
   "metadata": {
    "collapsed": false
   },
   "outputs": [],
   "source": [
    "import pickle\n",
    "from numpy import array, ones,zeros\n",
    "import sys\n",
    "\n",
    "class HMM:\n",
    "    def __init__(self, \n",
    "               state_list,observation_list,\n",
    "               transition_proba=None, \n",
    "               observation_proba=None,\n",
    "               initial_state_proba=None,\n",
    "               smoothing_obs=0.01):\n",
    "        print \"HMM creating with: \"\n",
    "        self.N = len(state_list)#number of states\n",
    "        self.M = len(observation_list)#number of observation\n",
    "        print str(self.N)+\" states\"\n",
    "        print str(self.M)+\" observations.\"\n",
    "        self.omega_Y = state_list\n",
    "        self.omega_X = observation_list\n",
    "        if transition_proba is None:\n",
    "            self.transition_proba = zeros((self.N,self.N), float)\n",
    "        else:\n",
    "            self.transition_proba = transition_proba\n",
    "        if observation_proba is None:\n",
    "            self.observation_proba = zeros((self.M, self.N),float)\n",
    "        else:\n",
    "            self.observation_proba = observation_proba\n",
    "        if initial_state_proba is None:\n",
    "            self.initial_state_proba = zeros((self.N,),float)\n",
    "        self.make_indexes()\n",
    "        self.smoothing_obs = smoothing_obs\n",
    "    \n",
    "    def make_indexes(self):\n",
    "        self.Y_index = {}\n",
    "        for i in range(self.N):\n",
    "            self.Y_index[self.omega_Y[i]] = i\n",
    "        self.X_index = {}\n",
    "        for i in range(self.M):\n",
    "            self.X_index[self.omega_X[i]] = i\n",
    "            \n",
    "    def observation_estimation(self, pair_counts):\n",
    "        for pair in pair_counts:\n",
    "            wrd = pair[0]\n",
    "            tag = pair[1]\n",
    "            cpt = pair_counts[pair]\n",
    "            k = 0\n",
    "            if wrd in self.X_index:\n",
    "                k = self.X_index[wrd]\n",
    "            i = self.Y_index[tag]\n",
    "            self.observation_proba[k,i] = cpt\n",
    "        \n",
    "        self.observation_proba = self.observation_proba + self.smoothing_obs\n",
    "        self.observation_proba = self.observation_proba/self.observation_proba.sum(axis=0).reshape(1,self.N)\n",
    "        \n",
    "    def transition_estimation(self, trans_counts):\n",
    "        for pair in trans_counts:\n",
    "            i = self.Y_index[pair[1]]\n",
    "            j = self.Y_index[pair[0]]\n",
    "            self.transition_proba[i,j] = trans_counts[pair]\n",
    "        self.transition_proba = self.transition_proba/self.transition_proba.sum(axis=0).reshape(1,self.N)\n",
    "        \n",
    "    def init_estimation(self, init_counts):\n",
    "        for tag in init_counts:\n",
    "            i = self.Y_index[tag]\n",
    "            self.initial_state_proba[i] = init_counts[tag]\n",
    "        self.initial_state_proba = self.initial_state_proba/sum(self.initial_state_proba)\n",
    "            \n",
    "    def supervised_training(self, pair_counts, trans_counts, init_counts):\n",
    "        self.observation_estimation(pair_counts)\n",
    "        self.transition_estimation(trans_counts)\n",
    "        self.init_estimation(init_counts)\n",
    "\n",
    "with open('train10.pkl','rb') as f:\n",
    "    data = pickle.load(f)"
   ]
  },
  {
   "cell_type": "code",
   "execution_count": 46,
   "metadata": {
    "collapsed": false
   },
   "outputs": [
    {
     "data": {
      "text/plain": [
       "([('b', 'b'), ('y', 'y')],\n",
       " [('t', 't'), ('h', 'h'), ('e', 'e'), ('i', 'i'), ('r', 'r')],\n",
       " [('o', 'o'), ('w', 'w'), ('n', 'n')])"
      ]
     },
     "execution_count": 46,
     "metadata": {},
     "output_type": "execute_result"
    }
   ],
   "source": [
    "data[0], data[1], data[2]"
   ]
  },
  {
   "cell_type": "code",
   "execution_count": 47,
   "metadata": {
    "collapsed": false
   },
   "outputs": [
    {
     "data": {
      "text/plain": [
       "29057"
      ]
     },
     "execution_count": 47,
     "metadata": {},
     "output_type": "execute_result"
    }
   ],
   "source": [
    "len(data)"
   ]
  },
  {
   "cell_type": "code",
   "execution_count": 48,
   "metadata": {
    "collapsed": false
   },
   "outputs": [],
   "source": [
    "def error_counts():\n",
    "    error_words = 0\n",
    "    error_letters = 0\n",
    "    total_words = 0\n",
    "    total_letters = 0\n",
    "    is_error = False\n",
    "    for word in data:\n",
    "        total_words += 1\n",
    "        is_error = False\n",
    "        for pair in word:\n",
    "            total_letters += 1\n",
    "            if pair[0]!=pair[1]:\n",
    "                if is_error == False:\n",
    "                    error_words+=1\n",
    "                    error_letters+=1\n",
    "                    is_error=True\n",
    "                else:\n",
    "                    error_letters+=1\n",
    "\n",
    "    print \"total words :\", total_words\n",
    "    print \"total letters: \", total_letters\n",
    "    print \"Error words rate: \" ,error_words*1.0/total_words\n",
    "    print \"Error letter rate: \",error_letters*1.0/total_letters"
   ]
  },
  {
   "cell_type": "code",
   "execution_count": 49,
   "metadata": {
    "collapsed": false
   },
   "outputs": [
    {
     "name": "stdout",
     "output_type": "stream",
     "text": [
      "total words : 29057\n",
      "total letters:  143168\n",
      "Error words rate:  0.379942870909\n",
      "Error letter rate:  0.0996102481001\n"
     ]
    }
   ],
   "source": [
    "error_counts()"
   ]
  },
  {
   "cell_type": "code",
   "execution_count": 50,
   "metadata": {
    "collapsed": true
   },
   "outputs": [],
   "source": [
    "def make_counts(corpus):\n",
    "    c_tags = dict()\n",
    "    c_obs = dict()\n",
    "    c_trans = dict()\n",
    "    c_pairs = dict()\n",
    "    c_inits = dict()\n",
    "    for word in corpus:\n",
    "        for i in range(len(word)):\n",
    "            pair = word[i]\n",
    "            tag = pair[1]\n",
    "            obs = pair[0]\n",
    "            if tag in c_tags:\n",
    "                c_tags[tag]+=1\n",
    "            else:\n",
    "                c_tags[tag]=1\n",
    "            if obs in c_obs:\n",
    "                c_obs[obs]+=1\n",
    "            else:\n",
    "                c_obs[obs]=1\n",
    "            if pair in c_pairs:\n",
    "                c_pairs[pair]+=1\n",
    "            else:\n",
    "                c_pairs[pair]=1\n",
    "            if i>0:\n",
    "                trans = (word[i-1][1],tag)\n",
    "                if trans in c_trans:\n",
    "                    c_trans[trans]+=1\n",
    "                else:\n",
    "                    c_trans[trans]=1\n",
    "            else:\n",
    "                if tag in c_inits:\n",
    "                    c_inits[tag]+=1\n",
    "                else:\n",
    "                    c_inits[tag]=1\n",
    "    return c_obs, c_tags, c_pairs, c_trans, c_inits\n",
    "            "
   ]
  },
  {
   "cell_type": "code",
   "execution_count": 51,
   "metadata": {
    "collapsed": true
   },
   "outputs": [],
   "source": [
    "c_obs, c_tags, c_pairs, c_trans, c_inits = make_counts(data)"
   ]
  },
  {
   "cell_type": "code",
   "execution_count": 52,
   "metadata": {
    "collapsed": false
   },
   "outputs": [
    {
     "name": "stdout",
     "output_type": "stream",
     "text": [
      "{'a': 10560, 'c': 4808, 'b': 2070, 'e': 18091, 'd': 4541, 'g': 2736, 'f': 3379, 'i': 10976, 'h': 6683, 'k': 590, 'j': 108, 'm': 3773, 'l': 6417, 'o': 11935, 'n': 9778, 'q': 150, 'p': 3217, 's': 9762, 'r': 8247, 'u': 3931, 't': 13877, 'w': 2229, 'v': 1927, 'y': 2985, 'x': 274, 'z': 124}\n",
      "{'a': 9765, 'c': 4530, 'b': 2289, 'e': 16638, 'd': 5256, 'g': 3161, 'f': 3879, 'i': 10274, 'h': 6558, 'k': 1463, 'j': 1001, 'm': 3677, 'l': 6266, 'o': 11342, 'n': 9106, 'q': 534, 'p': 3432, 's': 9328, 'r': 8443, 'u': 3886, 't': 12941, 'w': 2782, 'v': 2051, 'y': 3266, 'x': 645, 'z': 655}\n",
      "{('c', 'u'): 143, ('i', 'h'): 2, ('r', 'w'): 16, ('h', 's'): 21, ('n', 'o'): 757, ('o', 'x'): 5, ('s', 'o'): 748, ('r', 'p'): 37, ('k', 'y'): 1, ('a', 'q'): 2, ('f', 'c'): 5, ('o', 'w'): 456, ('w', 'd'): 10, ('f', 'r'): 228, ('m', 'i'): 285, ('r', 'i'): 767, ('c', 'q'): 11, ('h', 'w'): 2, ('a', 's'): 693, ('o', 'u'): 871, ('s', 'k'): 29, ('e', 'g'): 104, ('n', 't'): 1137, ('t', 'i'): 1754, ('n', 'u'): 43, ('r', 'b'): 12, ('u', 's'): 671, ('i', 'n'): 2446, ('e', 'f'): 357, ('a', 'u'): 172, ('g', 't'): 4, ('u', 'r'): 495, ('y', 's'): 284, ('t', 'f'): 6, ('a', 'w'): 27, ('n', 'w'): 6, ('d', 'f'): 1, ('s', 'y'): 297, ('i', 'a'): 379, ('d', 'y'): 40, ('d', 'n'): 12, ('e', 'c'): 799, ('n', 'd'): 1214, ('c', 't'): 463, ('p', 't'): 99, ('y', 'b'): 12, ('e', 'b'): 17, ('z', 'i'): 9, ('k', 'a'): 2, ('g', 'h'): 219, ('i', 'c'): 849, ('y', 'm'): 15, ('p', 'u'): 158, ('t', 's'): 432, ('m', 'a'): 800, ('n', 'a'): 331, ('m', 'v'): 1, ('s', 'u'): 431, ('s', 'c'): 154, ('e', 'o'): 253, ('i', 'r'): 351, ('e', 'n'): 1583, ('o', 'f'): 1109, ('g', 'l'): 33, ('d', 'c'): 2, ('d', 'h'): 1, ('l', 'y'): 637, ('h', 'b'): 8, ('i', 't'): 1324, ('f', 'f'): 202, ('m', 's'): 157, ('r', 'c'): 78, ('t', 'n'): 8, ('o', 'd'): 247, ('x', 'a'): 53, ('d', 'a'): 99, ('l', 'w'): 11, ('e', 'k'): 11, ('p', 'l'): 419, ('o', 'c'): 467, ('e', 'j'): 2, ('z', 'a'): 57, ('k', 'i'): 110, ('i', 'k'): 51, ('p', 'm'): 22, ('q', 'u'): 147, ('l', 'u'): 166, ('w', 't'): 7, ('r', 'y'): 208, ('n', 'i'): 363, ('o', 'a'): 89, ('m', 'n'): 4, ('s', 'm'): 150, ('x', 'e'): 25, ('n', 'j'): 1, ('l', 's'): 162, ('i', 'z'): 114, ('t', 'y'): 444, ('r', 'r'): 111, ('p', 'i'): 69, ('t', 'h'): 3903, ('o', 'n'): 1925, ('s', 't'): 1313, ('p', 's'): 106, ('h', 't'): 82, ('m', 'k'): 1, ('r', 'k'): 88, ('x', 'h'): 2, ('h', 'u'): 220, ('t', 'v'): 1, ('o', 'l'): 731, ('d', 'r'): 85, ('v', 'o'): 159, ('s', 'i'): 553, ('x', 'i'): 35, ('d', 'i'): 452, ('l', 'o'): 560, ('r', 'd'): 122, ('j', 'u'): 42, ('k', 'u'): 1, ('o', 'k'): 22, ('z', 'y'): 1, ('v', 'i'): 427, ('s', 'p'): 124, ('t', 'g'): 1, ('c', 'o'): 704, ('p', 'e'): 577, ('l', 'm'): 34, ('m', 'u'): 117, ('h', 'n'): 255, ('h', 'y'): 57, ('y', 't'): 18, ('o', 'i'): 99, ('h', 'o'): 493, ('m', 'f'): 2, ('w', 'n'): 104, ('s', 'e'): 1098, ('y', 'e'): 49, ('t', 'e'): 1415, ('n', 'r'): 2, ('l', 'k'): 12, ('i', 'b'): 79, ('c', 'r'): 158, ('n', 'q'): 3, ('f', 'y'): 48, ('k', 'o'): 3, ('d', 'w'): 6, ('t', 'p'): 1, ('o', 'v'): 197, ('v', 'e'): 1187, ('s', 'l'): 31, ('y', 'g'): 1, ('c', 'k'): 58, ('l', 'i'): 600, ('i', 'd'): 327, ('r', 's'): 289, ('x', 'p'): 50, ('n', 'c'): 418, ('i', 'u'): 1, ('d', 'u'): 258, ('o', 't'): 500, ('a', 'h'): 4, ('s', 'a'): 207, ('r', 'l'): 92, ('f', 'u'): 128, ('l', 'v'): 79, ('z', 'o'): 1, ('y', 'z'): 1, ('o', 's'): 355, ('p', 'y'): 13, ('v', 'a'): 146, ('w', 'i'): 494, ('s', 'h'): 142, ('t', 'o'): 1247, ('l', 'e'): 1128, ('m', 'm'): 67, ('r', 'e'): 2063, ('b', 'r'): 79, ('x', 't'): 54, ('l', 't'): 114, ('g', 'r'): 247, ('h', 'a'): 1342, ('n', 'y'): 193, ('m', 'l'): 2, ('a', 'l'): 1434, ('w', 'o'): 310, ('b', 's'): 15, ('x', 'u'): 9, ('n', 'h'): 11, ('t', 'm'): 10, ('u', 'e'): 166, ('l', 'c'): 6, ('b', 't'): 16, ('j', 'a'): 5, ('g', 'y'): 167, ('l', 'r'): 19, ('u', 'd'): 59, ('d', 'd'): 20, ('a', 'n'): 2053, ('b', 'u'): 270, ('y', 'o'): 83, ('c', 'c'): 75, ('l', 'a'): 344, ('i', 'l'): 519, ('b', 'v'): 8, ('n', 'k'): 34, ('k', 'n'): 30, ('l', 'p'): 12, ('h', 'e'): 2832, ('e', 'u'): 9, ('u', 'a'): 160, ('e', 't'): 576, ('p', 'p'): 158, ('r', 't'): 364, ('j', 'e'): 23, ('k', 'e'): 221, ('p', 'f'): 1, ('l', 'n'): 2, ('s', 'r'): 23, ('a', 'b'): 248, ('v', 'y'): 2, ('w', 'a'): 210, ('b', 'y'): 197, ('t', 'w'): 40, ('h', 'h'): 1, ('m', 'e'): 729, ('r', 'm'): 154, ('n', 'e'): 869, ('g', 's'): 81, ('l', 'l'): 713, ('h', 'i'): 635, ('o', 'y'): 37, ('e', 'q'): 69, ('a', 'd'): 300, ('n', 'f'): 90, ('n', 'p'): 5, ('s', 'f'): 78, ('t', 'u'): 232, ('u', 'm'): 209, ('r', 'f'): 29, ('e', 'p'): 170, ('k', 's'): 29, ('t', 'd'): 1, ('o', 'b'): 162, ('f', 'i'): 282, ('u', 'l'): 466, ('s', 'n'): 23, ('d', 'l'): 20, ('a', 'f'): 43, ('v', 'u'): 1, ('w', 'e'): 522, ('i', 'p'): 51, ('y', 'w'): 3, ('h', 'l'): 19, ('t', 'b'): 1, ('n', 's'): 492, ('g', 'n'): 44, ('h', 'm'): 3, ('i', 'e'): 707, ('d', 'e'): 819, ('d', 'j'): 8, ('a', 'x'): 4, ('w', 'r'): 11, ('u', 'i'): 119, ('a', 'i'): 287, ('p', 'h'): 115, ('f', 'e'): 251, ('g', 'u'): 70, ('l', 'f'): 88, ('i', 'g'): 174, ('a', 'z'): 7, ('f', 't'): 199, ('b', 'a'): 76, ('c', 'i'): 652, ('a', 'k'): 205, ('r', 'u'): 154, ('n', 'm'): 73, ('k', 'd'): 18, ('b', 'b'): 4, ('l', 'd'): 350, ('e', 'y'): 238, ('y', 'l'): 9, ('n', 'n'): 64, ('v', 's'): 4, ('b', 'c'): 1, ('i', 'v'): 506, ('n', 'x'): 6, ('a', 'm'): 203, ('r', 'n'): 166, ('e', 'x'): 251, ('j', 'o'): 38, ('t', 'l'): 100, ('f', 'a'): 144, ('g', 'i'): 272, ('o', 'm'): 640, ('u', 't'): 611, ('d', 'o'): 336, ('b', 'e'): 847, ('c', 'e'): 681, ('i', 'x'): 2, ('m', 'o'): 533, ('r', 'g'): 153, ('c', 's'): 12, ('s', 'g'): 1, ('a', 'o'): 3, ('b', 'f'): 1, ('o', 'h'): 10, ('d', 'v'): 64, ('g', 'o'): 200, ('i', 'm'): 349, ('d', 'm'): 4, ('e', 'e'): 487, ('a', 'p'): 191, ('c', 'l'): 106, ('w', 's'): 15, ('u', 'g'): 167, ('p', 'r'): 605, ('e', 'd'): 1020, ('f', 's'): 6, ('o', 'g'): 401, ('u', 'f'): 44, ('y', 'i'): 27, ('g', 'm'): 10, ('u', 'p'): 147, ('i', 'o'): 924, ('s', 'b'): 2, ('a', 'r'): 942, ('f', 'l'): 43, ('m', 'y'): 39, ('b', 'i'): 78, ('c', 'a'): 783, ('a', 'c'): 407, ('y', 'p'): 40, ('o', 'e'): 60, ('k', 'l'): 5, ('b', 'j'): 20, ('e', 'w'): 75, ('y', 'a'): 10, ('e', 'a'): 656, ('a', 't'): 1772, ('n', 'v'): 76, ('c', 'h'): 768, ('u', 'c'): 214, ('e', 'v'): 433, ('a', 'e'): 1, ('r', 'v'): 72, ('f', 'o'): 585, ('t', 't'): 166, ('u', 'b'): 59, ('b', 'l'): 304, ('o', 'r'): 1581, ('d', 'p'): 1, ('g', 'a'): 211, ('w', 'h'): 385, ('y', 'c'): 69, ('a', 'v'): 354, ('b', 'm'): 1, ('r', 'o'): 896, ('a', 'g'): 214, ('n', 'g'): 985, ('i', 'q'): 31, ('t', 'r'): 528, ('b', 'n'): 3, ('o', 'p'): 396, ('s', 'w'): 5, ('g', 'g'): 34, ('e', 's'): 1577, ('e', 'm'): 658, ('y', 'n'): 2, ('u', 'o'): 4, ('b', 'o'): 132, ('r', 'h'): 5, ('e', 'r'): 1919, ('u', 'y'): 3, ('a', 'y'): 265, ('e', 'l'): 551, ('i', 's'): 1479, ('o', 'o'): 140, ('z', 'e'): 56, ('u', 'n'): 297, ('g', 'e'): 398, ('u', 'x'): 3, ('w', 'l'): 5, ('t', 'c'): 35, ('r', 'a'): 641, ('c', 'y'): 24, ('a', 'j'): 23, ('d', 'g'): 10, ('m', 'p'): 299, ('s', 's'): 559, ('x', 'c'): 19, ('m', 'b'): 37, ('n', 'l'): 140, ('t', 'a'): 483, ('e', 'i'): 255, ('i', 'f'): 293, ('e', 'h'): 67, ('f', 'g'): 1, ('d', 's'): 151, ('o', 'z'): 2, ('h', 'r'): 105, ('p', 'o'): 535, ('p', 'a'): 239}\n"
     ]
    }
   ],
   "source": [
    "print c_tags\n",
    "print c_obs\n",
    "print c_trans"
   ]
  },
  {
   "cell_type": "code",
   "execution_count": 54,
   "metadata": {
    "collapsed": false
   },
   "outputs": [
    {
     "name": "stdout",
     "output_type": "stream",
     "text": [
      "HMM creating with: \n",
      "26 states\n",
      "26 observations.\n"
     ]
    }
   ],
   "source": [
    "hmm = HMM(c_tags.keys(),c_obs.keys(),transition_proba=None,\n",
    "         observation_proba=None,\n",
    "         initial_state_proba=None,smoothing_obs=0.001)\n",
    "hmm.supervised_training(c_pairs, c_trans, c_inits)"
   ]
  },
  {
   "cell_type": "code",
   "execution_count": 55,
   "metadata": {
    "collapsed": false
   },
   "outputs": [
    {
     "name": "stdout",
     "output_type": "stream",
     "text": [
      "[ 1.  1.  1.  1.  1.  1.  1.  1.  1.  1.  1.  1.  1.  1.  1.  1.  1.  1.\n",
      "  1.  1.  1.  1.  1.  1.  1.  1.]\n"
     ]
    }
   ],
   "source": [
    "print hmm.transition_proba.sum(axis=0)"
   ]
  },
  {
   "cell_type": "code",
   "execution_count": 56,
   "metadata": {
    "collapsed": false
   },
   "outputs": [
    {
     "name": "stdout",
     "output_type": "stream",
     "text": [
      "1.0\n"
     ]
    }
   ],
   "source": [
    "print sum(hmm.initial_state_proba)"
   ]
  }
 ],
 "metadata": {
  "kernelspec": {
   "display_name": "Python [Root]",
   "language": "python",
   "name": "Python [Root]"
  },
  "language_info": {
   "codemirror_mode": {
    "name": "ipython",
    "version": 2
   },
   "file_extension": ".py",
   "mimetype": "text/x-python",
   "name": "python",
   "nbconvert_exporter": "python",
   "pygments_lexer": "ipython2",
   "version": "2.7.12"
  }
 },
 "nbformat": 4,
 "nbformat_minor": 0
}
