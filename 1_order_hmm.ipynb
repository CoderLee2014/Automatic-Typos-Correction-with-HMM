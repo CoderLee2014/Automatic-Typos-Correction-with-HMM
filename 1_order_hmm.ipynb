{
 "cells": [
  {
   "cell_type": "code",
   "execution_count": 1,
   "metadata": {
    "collapsed": false
   },
   "outputs": [],
   "source": [
    "import pickle\n",
    "from numpy import array, ones,zeros\n",
    "import sys\n",
    "\n",
    "class HMM:\n",
    "    def _init_(self, \n",
    "               state_list,observation_list,\n",
    "               transition_proba=None, \n",
    "               observation_proba=None,\n",
    "               initial_state_proba=None,\n",
    "               smoothing_obs=0.01):\n",
    "        print \"HMM creating with: \"\n",
    "        self.N = len(state_list)#number of states\n",
    "        self.M = len(observation_list)#number of observation\n",
    "        print str(self.N)+\" states\"\n",
    "        print str(self.M)+\" observations.\"\n",
    "        self.omega_Y = state_list\n",
    "        self.omega_X = observation_list\n",
    "        if transition_proba is None:\n",
    "            self.transition_proba = zeros((slef.N,self.N), float)\n",
    "        else:\n",
    "            self.transition_proba = transition_proba\n",
    "        if observation_proba is None:\n",
    "            self.observation_proba = zeros((self.M, self.N),float)\n",
    "        else:\n",
    "            self.observation_proba = observation_proba\n",
    "        if initial_state_proba is None:\n",
    "            self.initial_state_proba = zeros((self.N,),float)\n",
    "        self.make_indexes()\n",
    "        self.smoothing_obs = smoothing_obs\n",
    "    \n",
    "    def make_indexes(self):\n",
    "        self.Y_index = {}\n",
    "        for i in range(self.N):\n",
    "            self.Y_index[self.omega_Y[i]] = i\n",
    "        self.X_index = {}\n",
    "        for i in range(self.M):\n",
    "            self.X_index[self.omega_X[i]] = i\n",
    "            \n",
    "    def observation_estimation(self, pair_counts):\n",
    "        for pair in pair_counts:\n",
    "            wrd = pair[0]\n",
    "            tag = pair[1]\n",
    "            cpt = pair_counts[pair]\n",
    "            k = 0\n",
    "            if wrd in self.X_index:\n",
    "                k = self.X_index[wrd]\n",
    "            i = self.Y_index[tag]\n",
    "            self.observation_proba[k,i] = cpt\n",
    "        \n",
    "        self.observation_proba = self.observation_proba + self.soothing_obs\n",
    "        self.observation_proba = self.observation_proba/self.observation_proba.sum(axis=0).reshape(1,self.N)\n",
    "        \n",
    "        def transition_estimation(self, trans_counts):\n",
    "            for pair in trans_counts:\n",
    "                i = self.Y_index[pair[1]]\n",
    "                j = slef.Y_index[pair[0]]\n",
    "                self.transition_proba[i,j] = trans_counts[pair]\n",
    "            self.transition_proba = self.transition_proba/self.transtion_proba.sum(axis=0).reshape(1,self.N)\n",
    "        \n",
    "        def init_estimation(self, init_counts):\n",
    "            for tag in init_counts:\n",
    "                i = self.Y_index[tag]\n",
    "                self.initial_state_proba[i] = init_counts[tag]\n",
    "            self.initial_state_proba = self.initial_state_proba/sum(self.initial_state_proba)\n",
    "            \n",
    "        def supervised_training(self, pair_counts, trans_counts, init_counts):\n",
    "            self.observation_estimation(self, pair_counts)\n",
    "            self.transition_estimation(self, trans_counts)\n",
    "            self.init_estimation(self, init_counts)\n",
    "\n",
    "with open('train10.pkl','rb') as f:\n",
    "    data = pickle.load(f)"
   ]
  },
  {
   "cell_type": "code",
   "execution_count": 2,
   "metadata": {
    "collapsed": false
   },
   "outputs": [
    {
     "data": {
      "text/plain": [
       "([('b', 'b'), ('y', 'y')],\n",
       " [('t', 't'), ('h', 'h'), ('e', 'e'), ('i', 'i'), ('r', 'r')],\n",
       " [('o', 'o'), ('w', 'w'), ('n', 'n')])"
      ]
     },
     "execution_count": 2,
     "metadata": {},
     "output_type": "execute_result"
    }
   ],
   "source": [
    "data[0], data[1], data[2]"
   ]
  },
  {
   "cell_type": "code",
   "execution_count": 3,
   "metadata": {
    "collapsed": false
   },
   "outputs": [
    {
     "data": {
      "text/plain": [
       "29057"
      ]
     },
     "execution_count": 3,
     "metadata": {},
     "output_type": "execute_result"
    }
   ],
   "source": [
    "len(data)"
   ]
  },
  {
   "cell_type": "code",
   "execution_count": 4,
   "metadata": {
    "collapsed": false
   },
   "outputs": [],
   "source": [
    "def error_counts():\n",
    "    error_words = 0\n",
    "    error_letters = 0\n",
    "    total_words = 0\n",
    "    total_letters = 0\n",
    "    is_error = False\n",
    "    for word in data:\n",
    "        total_words += 1\n",
    "        is_error = False\n",
    "        for pair in word:\n",
    "            total_letters += 1\n",
    "            if pair[0]!=pair[1]:\n",
    "                if is_error == False:\n",
    "                    error_words+=1\n",
    "                    error_letters+=1\n",
    "                    is_error=True\n",
    "                else:\n",
    "                    error_letters+=1\n",
    "\n",
    "    print \"total words :\", total_words\n",
    "    print \"total letters: \", total_letters\n",
    "    print \"Error words rate: \" ,error_words*1.0/total_words\n",
    "    print \"Error letter rate: \",error_letters*1.0/total_letters"
   ]
  },
  {
   "cell_type": "code",
   "execution_count": 6,
   "metadata": {
    "collapsed": false
   },
   "outputs": [
    {
     "name": "stdout",
     "output_type": "stream",
     "text": [
      "total words : 29057\n",
      "total letters:  143168\n",
      "Error words rate:  0.379942870909\n",
      "Error letter rate:  0.0996102481001\n"
     ]
    }
   ],
   "source": [
    "error_counts()"
   ]
  },
  {
   "cell_type": "code",
   "execution_count": null,
   "metadata": {
    "collapsed": true
   },
   "outputs": [],
   "source": [
    "def make_counts(corpus):\n",
    "    c_tags = dict()\n",
    "    c_obs = dict()\n",
    "    c_trans = dict()\n",
    "    c_pairs = dict()\n",
    "    c_inits = dict()\n",
    "    for word in corpus:\n",
    "        for i in range(len(word)):\n",
    "            pair = word[i]\n",
    "            tag = pair[1]\n",
    "            obs = pair[0]\n",
    "            if tag in c_tags:\n",
    "                c_tags[tag]+=1\n",
    "            else:\n",
    "                c_tags[tag]=1\n",
    "            if obs in c_obs:\n",
    "                c_obs[obs]+=1\n",
    "            else:\n",
    "                c_obs[obs]=1\n",
    "            if pair in c_pairs:\n",
    "                c_pairs[pair]+=1\n",
    "            else:\n",
    "                c_pairs[pair]=1\n",
    "            if i>0:\n",
    "                trans = (word[i-1],tag)\n",
    "                if trans in c_trans:\n",
    "                    c_trans[trans]+=1\n",
    "                else:\n",
    "                    c_trans[trans]=1\n",
    "            else:\n",
    "                if tag in c_inits:\n",
    "                    c_inits[tag]+=1\n",
    "            "
   ]
  }
 ],
 "metadata": {
  "kernelspec": {
   "display_name": "Python [Root]",
   "language": "python",
   "name": "Python [Root]"
  },
  "language_info": {
   "codemirror_mode": {
    "name": "ipython",
    "version": 2
   },
   "file_extension": ".py",
   "mimetype": "text/x-python",
   "name": "python",
   "nbconvert_exporter": "python",
   "pygments_lexer": "ipython2",
   "version": "2.7.12"
  }
 },
 "nbformat": 4,
 "nbformat_minor": 0
}
